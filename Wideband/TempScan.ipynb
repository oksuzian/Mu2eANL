{
 "cells": [
  {
   "cell_type": "code",
   "execution_count": 1,
   "id": "d87ab9f2-7693-4f5f-8daa-94f6bded40d7",
   "metadata": {
    "tags": []
   },
   "outputs": [],
   "source": [
    "import os\n",
    "import numpy as np\n",
    "from scipy import stats\n",
    "import math\n",
    "import matplotlib.pyplot as plt\n",
    "import uproot\n",
    "\n",
    "from mu2etools import *\n",
    "from mu2etools import wideband\n",
    "\n",
    "hep.style.use('ATLAS')  # or ATLAS/LHCb2\n"
   ]
  },
  {
   "cell_type": "code",
   "execution_count": null,
   "id": "68ac4b94-cb8d-4d52-89b3-7e8abbd89da6",
   "metadata": {
    "tags": []
   },
   "outputs": [],
   "source": [
    "DATASET = 'rec.mu2e.CRV_wideband_cosmics-noadc.CRVWB-000-006-000.root'\n",
    "runlist = [1312, 1315, 1341] #1312@22C, 1315@22C, 1317@15C\n",
    "processor = wideband.DataProcessor(usexroot=True, fixtimes=False, runlist=runlist, userunlist=True, remove=False)\n",
    "ar = processor.getData(DATASET)"
   ]
  },
  {
   "cell_type": "code",
   "execution_count": null,
   "id": "d6379cfa-cb4a-4221-9fc3-6276d4c25424",
   "metadata": {
    "tags": []
   },
   "outputs": [],
   "source": [
    "ar_hi = ar[(ar['runNumber']==1312) | (ar['runNumber']==1315)]\n",
    "ar_lo = ar[ar['runNumber']==1341]"
   ]
  },
  {
   "cell_type": "code",
   "execution_count": null,
   "id": "4db6a8ff-ef43-4010-b438-fc494affdb8f",
   "metadata": {
    "tags": []
   },
   "outputs": [],
   "source": [
    "def plotCompare(var='PEs', ylim=(10,60), ylabel='PEs'):\n",
    "    ar_hiPE = ak.mean(ar_hi[var], axis=0).to_numpy().compressed()[0:128]\n",
    "    ar_loPE = ak.mean(ar_lo[var], axis=0).to_numpy().compressed()[0:128]\n",
    "\n",
    "    plt.figure(figsize=(10,6))\n",
    "    plt.plot(ar_hiPE, '.-', label='Data at 22C', linewidth=1)\n",
    "    plt.plot(ar_loPE, '.-', label='Data at 15C', linewidth=1)\n",
    "    plt.xlabel('Channel ID')\n",
    "    plt.ylabel(ylabel)\n",
    "    plt.legend()\n",
    "    plt.ylim(ylim);\n",
    "    plt.xlim(-1);\n",
    "    \n",
    "    plt.figure(figsize=(10,6))\n",
    "    pull = (ar_hiPE-ar_loPE)/ar_hiPE*100\n",
    "    plt.hist(pull, histtype='step', bins=20, label='Residual: %.1f +/- %.1f'%(pull.mean(), pull.std()) );\n",
    "    plt.xlabel('Difference [%]')\n",
    "    plt.ylabel('Events')\n",
    "    plt.legend();"
   ]
  },
  {
   "cell_type": "code",
   "execution_count": null,
   "id": "c7531394-12c7-4e9b-83c3-b9e912e58b27",
   "metadata": {
    "tags": []
   },
   "outputs": [],
   "source": [
    "plotCompare(ylabel='PE uncorrected')"
   ]
  },
  {
   "cell_type": "code",
   "execution_count": null,
   "id": "470ac835-fc40-4b8f-a5fc-fc44437b60cc",
   "metadata": {
    "tags": []
   },
   "outputs": [],
   "source": [
    "plotCompare('PEsTemperatureCorrected', ylabel='PEs corrected')"
   ]
  },
  {
   "cell_type": "code",
   "execution_count": null,
   "id": "e001e15d-9629-43f2-953b-3f2c991b591f",
   "metadata": {
    "tags": []
   },
   "outputs": [],
   "source": [
    "plotCompare('calibConstants', ylim=(100,700), ylabel='SPE uncorrected')"
   ]
  },
  {
   "cell_type": "code",
   "execution_count": null,
   "id": "8b8526ef-8d50-4068-85a4-d147247afce7",
   "metadata": {
    "tags": []
   },
   "outputs": [],
   "source": [
    "plotCompare('calibConstantsTemperatureCorrected', ylim=(100,700), ylabel='SPE corrected')"
   ]
  },
  {
   "cell_type": "code",
   "execution_count": null,
   "id": "889977b6-6eef-49a1-8301-e6a1f49b113a",
   "metadata": {},
   "outputs": [],
   "source": []
  }
 ],
 "metadata": {
  "kernelspec": {
   "display_name": "Python [conda env:.conda-MyEnv]",
   "language": "python",
   "name": "conda-env-.conda-MyEnv-py"
  },
  "language_info": {
   "codemirror_mode": {
    "name": "ipython",
    "version": 3
   },
   "file_extension": ".py",
   "mimetype": "text/x-python",
   "name": "python",
   "nbconvert_exporter": "python",
   "pygments_lexer": "ipython3",
   "version": "3.10.8"
  }
 },
 "nbformat": 4,
 "nbformat_minor": 5
}
