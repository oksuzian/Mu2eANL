{
 "cells": [
  {
   "cell_type": "code",
   "execution_count": 1,
   "id": "1a55e512-2885-4498-86bc-8b29a9dd3f44",
   "metadata": {},
   "outputs": [],
   "source": [
    "import matplotlib as mpl\n",
    "import matplotlib.pyplot as plt\n",
    "import subprocess\n",
    "import numpy as np\n",
    "import uproot\n",
    "import sys\n",
    "import awkward as ak\n",
    "from scipy.signal import find_peaks\n",
    "import mplhep as hep\n",
    "hep.style.use('ATLAS')  # or ATLAS/LHCb2"
   ]
  },
  {
   "cell_type": "code",
   "execution_count": 2,
   "id": "641be7ab-d777-4154-b999-66117af4e2a0",
   "metadata": {},
   "outputs": [],
   "source": [
    "arg = 'rec.mu2e.CRV_wideband_cosmics.CRVWB-000-001-000.root'\n",
    "# Execute the shell script with argument\n",
    "filelist = subprocess.check_output(['./getDataset.sh', arg], universal_newlines=True)\n",
    "filelist = filelist.splitlines()"
   ]
  },
  {
   "cell_type": "code",
   "execution_count": 3,
   "id": "d387c165-7ba4-4847-ad62-49ec63bd81cd",
   "metadata": {},
   "outputs": [],
   "source": [
    "goodruns=[1361, 1364, 1365,1366] # Select LED runs with bias set to 0x600, 0x680, 0x700 and 0x780\n",
    "goodruns=[str(x).zfill(6) for x in goodruns]\n",
    "\n",
    "def select_good_runs(goodruns, allruns):\n",
    "    return [item for item in allruns if any(goodruns in item for goodruns in goodruns)]\n",
    "good_run_list=select_good_runs(goodruns, filelist)"
   ]
  },
  {
   "cell_type": "code",
   "execution_count": 4,
   "id": "b8af6b51-caab-435b-a7f5-e549dbd0a95b",
   "metadata": {},
   "outputs": [],
   "source": [
    "good_run_list_xroot=[]\n",
    "for root_file in good_run_list:\n",
    "    root_file = 'root://fndca1.fnal.gov'+root_file[:5]+'/fnal.gov/usr/'+root_file[6:]            \n",
    "    good_run_list_xroot.append(root_file)"
   ]
  },
  {
   "cell_type": "code",
   "execution_count": 6,
   "id": "a3cdbdf4-284e-4b0d-9c63-db59aab123f6",
   "metadata": {},
   "outputs": [],
   "source": [
    "file_list = [\"{}{}\".format(i,\":run\") for i in good_run_list_xroot]\n",
    "arr = uproot.concatenate(file_list, \n",
    "                         filter_name=[\"time\", \"PEs\", \"temperature\", \"beta\"], \n",
    "                         xrootdsource={\"timeout\": 1000})"
   ]
  },
  {
   "cell_type": "code",
   "execution_count": null,
   "id": "7f3de604-9ed4-40e9-bf11-46a440a706fd",
   "metadata": {},
   "outputs": [],
   "source": [
    "maxx=30\n",
    "fig = plt.figure(figsize=[12,4])\n",
    "ax = fig.gca()\n",
    "ax.set_xticks(np.arange(0, maxx, 1))\n",
    "plt.hist(ak.flatten(arr['PEs'][:,0]), histtype='step', bins=2000, range=(0.7, maxx), label=\"FEB1\"); #FEB1\n",
    "hist, bins, _ = plt.hist(ak.flatten(arr['PEs'][:,1]), histtype='step', bins=2000, range=(0.7, maxx), label=\"FEB0\"); #FEB0\n",
    "peaks, _ = find_peaks(hist, width=10)\n",
    "plt.plot(bins[peaks], hist[peaks], \"r.\", markersize=5, label=\"SPE peaks\")\n",
    "\n",
    "plt.yscale('log')\n",
    "plt.grid()\n",
    "plt.legend();"
   ]
  },
  {
   "cell_type": "code",
   "execution_count": null,
   "id": "b9dac020-ef5b-4697-b94d-b297d1f3cdb5",
   "metadata": {},
   "outputs": [],
   "source": [
    "y=bins[peaks]\n",
    "x=range(1,len(y)+1)\n",
    "plt.plot(x, y, '.');\n",
    "m, b = np.polyfit(x, y, deg=1)\n",
    "\n",
    "line = m * x + b\n",
    "plt.plot(x, line, '--r', linewidth=1, label='Linear Fit: %0.3f'%m)\n",
    "plt.xlabel(\"True PE\")\n",
    "plt.ylabel(\"Reco PE\")\n",
    "plt.legend();\n",
    "plt.ylim(0,30)\n",
    "\n",
    "plt.figure()\n",
    "plt.plot(x, y/x, '.');\n",
    "plt.xlabel(\"True PE\")\n",
    "plt.ylabel(\"Overestimation fraction\");\n"
   ]
  }
 ],
 "metadata": {
  "kernelspec": {
   "display_name": "Python 3 (ipykernel)",
   "language": "python",
   "name": "python3"
  },
  "language_info": {
   "codemirror_mode": {
    "name": "ipython",
    "version": 3
   },
   "file_extension": ".py",
   "mimetype": "text/x-python",
   "name": "python",
   "nbconvert_exporter": "python",
   "pygments_lexer": "ipython3",
   "version": "3.9.15"
  }
 },
 "nbformat": 4,
 "nbformat_minor": 5
}
